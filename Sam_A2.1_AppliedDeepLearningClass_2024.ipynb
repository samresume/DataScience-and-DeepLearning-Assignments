{
 "cells": [
  {
   "cell_type": "markdown",
   "metadata": {
    "id": "jF9k9TS0Ca3N"
   },
   "source": [
    "Google Colab note:\n",
    "- Check in which folder you are in"
   ]
  },
  {
   "cell_type": "code",
   "execution_count": 1,
   "metadata": {
    "colab": {
     "base_uri": "https://localhost:8080/"
    },
    "id": "_Y9GYepwBhxA",
    "outputId": "b3935e9e-9ccf-49a9-f091-de7fea5df734"
   },
   "outputs": [
    {
     "name": "stdout",
     "output_type": "stream",
     "text": [
      "/Users/samskanderi/Downloads\n"
     ]
    }
   ],
   "source": [
    "import os\n",
    "print(os.getcwd())"
   ]
  },
  {
   "cell_type": "markdown",
   "metadata": {
    "id": "eElp-pybCkd1"
   },
   "source": [
    "Upload the data file in that folder\n",
    "- It will be deleted after your session"
   ]
  },
  {
   "cell_type": "code",
   "execution_count": 2,
   "metadata": {
    "colab": {
     "base_uri": "https://localhost:8080/"
    },
    "id": "OiZjtWNLCxz3",
    "outputId": "9f49c5e2-4d84-446a-e109-40097eb3f210"
   },
   "outputs": [
    {
     "name": "stdout",
     "output_type": "stream",
     "text": [
      "WARNING:tensorflow:From /Users/samskanderi/anaconda3/lib/python3.11/site-packages/tensorflow/python/compat/v2_compat.py:108: disable_resource_variables (from tensorflow.python.ops.variable_scope) is deprecated and will be removed in a future version.\n",
      "Instructions for updating:\n",
      "non-resource variables are not supported in the long term\n",
      "2.14.0\n",
      "None\n"
     ]
    }
   ],
   "source": [
    "%matplotlib inline\n",
    "import numpy as np # linear algebra\n",
    "import pandas as pd # data processing, CSV file I/O (e.g. pd.read_csv)\n",
    "import matplotlib.pyplot as plt\n",
    "import tensorflow.compat.v1 as tf\n",
    "tf.disable_v2_behavior()\n",
    "print(print(tf.__version__))"
   ]
  },
  {
   "cell_type": "markdown",
   "metadata": {
    "id": "6CnhRXEtDWt_"
   },
   "source": [
    "#Read the data\n",
    "- From CSV to Pandas data frame"
   ]
  },
  {
   "cell_type": "code",
   "execution_count": 11,
   "metadata": {
    "id": "nYDZDt0nC_0c"
   },
   "outputs": [],
   "source": [
    "x2d = pd.read_csv('x2d.csv', header=None)"
   ]
  },
  {
   "cell_type": "code",
   "execution_count": 12,
   "metadata": {
    "colab": {
     "base_uri": "https://localhost:8080/"
    },
    "id": "UQ0e6InXDS59",
    "outputId": "6c438e17-a9dc-468f-ce9d-122ed9552be1"
   },
   "outputs": [
    {
     "data": {
      "text/plain": [
       "(100, 4)"
      ]
     },
     "execution_count": 12,
     "metadata": {},
     "output_type": "execute_result"
    }
   ],
   "source": [
    "x2d.shape"
   ]
  },
  {
   "cell_type": "code",
   "execution_count": 13,
   "metadata": {
    "colab": {
     "base_uri": "https://localhost:8080/",
     "height": 206
    },
    "id": "NIP1foAIDUoo",
    "outputId": "feb70ca4-5f9d-4eae-87d8-788108e7b2ec"
   },
   "outputs": [
    {
     "data": {
      "text/html": [
       "<div>\n",
       "<style scoped>\n",
       "    .dataframe tbody tr th:only-of-type {\n",
       "        vertical-align: middle;\n",
       "    }\n",
       "\n",
       "    .dataframe tbody tr th {\n",
       "        vertical-align: top;\n",
       "    }\n",
       "\n",
       "    .dataframe thead th {\n",
       "        text-align: right;\n",
       "    }\n",
       "</style>\n",
       "<table border=\"1\" class=\"dataframe\">\n",
       "  <thead>\n",
       "    <tr style=\"text-align: right;\">\n",
       "      <th></th>\n",
       "      <th>0</th>\n",
       "      <th>1</th>\n",
       "      <th>2</th>\n",
       "      <th>3</th>\n",
       "    </tr>\n",
       "  </thead>\n",
       "  <tbody>\n",
       "    <tr>\n",
       "      <th>0</th>\n",
       "      <td>0</td>\n",
       "      <td>5.1</td>\n",
       "      <td>3.5</td>\n",
       "      <td>1</td>\n",
       "    </tr>\n",
       "    <tr>\n",
       "      <th>1</th>\n",
       "      <td>1</td>\n",
       "      <td>4.9</td>\n",
       "      <td>3.0</td>\n",
       "      <td>1</td>\n",
       "    </tr>\n",
       "    <tr>\n",
       "      <th>2</th>\n",
       "      <td>2</td>\n",
       "      <td>4.7</td>\n",
       "      <td>3.2</td>\n",
       "      <td>1</td>\n",
       "    </tr>\n",
       "    <tr>\n",
       "      <th>3</th>\n",
       "      <td>3</td>\n",
       "      <td>4.6</td>\n",
       "      <td>3.1</td>\n",
       "      <td>1</td>\n",
       "    </tr>\n",
       "    <tr>\n",
       "      <th>4</th>\n",
       "      <td>4</td>\n",
       "      <td>5.0</td>\n",
       "      <td>3.6</td>\n",
       "      <td>1</td>\n",
       "    </tr>\n",
       "  </tbody>\n",
       "</table>\n",
       "</div>"
      ],
      "text/plain": [
       "   0    1    2  3\n",
       "0  0  5.1  3.5  1\n",
       "1  1  4.9  3.0  1\n",
       "2  2  4.7  3.2  1\n",
       "3  3  4.6  3.1  1\n",
       "4  4  5.0  3.6  1"
      ]
     },
     "execution_count": 13,
     "metadata": {},
     "output_type": "execute_result"
    }
   ],
   "source": [
    "x2d.head()"
   ]
  },
  {
   "cell_type": "markdown",
   "metadata": {
    "id": "IraXKesfElz2"
   },
   "source": [
    "#Features\n",
    "- Column 1 : id\n",
    "- Columns 2 - 5: features/attributes\n",
    "- Column 6: label"
   ]
  },
  {
   "cell_type": "markdown",
   "metadata": {
    "id": "tDwEeG5xDyk_"
   },
   "source": [
    "We will to do a binary classification, so we will keep the first 100 rows of data\n",
    "\n",
    "Iris-setosa species is linearly separable from the other two, but the other two are not linearly separable from each other.To keep the species blance Iris-setosa and Iris-versicolor are choosen"
   ]
  },
  {
   "cell_type": "code",
   "execution_count": null,
   "metadata": {},
   "outputs": [],
   "source": [
    "# iris = iris[:100]"
   ]
  },
  {
   "cell_type": "markdown",
   "metadata": {
    "id": "668Dp3PlEHnF"
   },
   "source": [
    "#Covert the string lables to numerals"
   ]
  },
  {
   "cell_type": "code",
   "execution_count": 8,
   "metadata": {
    "id": "51baCEy_Dx2t"
   },
   "outputs": [],
   "source": [
    "# iris.Species = iris.Species.replace(to_replace=['Iris-setosa', 'Iris-versicolor'], value=[0, 1])"
   ]
  },
  {
   "cell_type": "markdown",
   "metadata": {
    "id": "4svOpInXEY-x"
   },
   "source": [
    "#Visualize two class examples in 2D space\n",
    "- We simply select first two features"
   ]
  },
  {
   "cell_type": "code",
   "execution_count": 14,
   "metadata": {
    "colab": {
     "base_uri": "https://localhost:8080/",
     "height": 469
    },
    "id": "RK111QlGDp5p",
    "outputId": "432f25d7-bcfe-4707-bb71-82e9ee03d96f"
   },
   "outputs": [
    {
     "data": {
      "image/png": "[encoded data removed]",
      "text/plain": [
       "<Figure size 1000x600 with 1 Axes>"
      ]
     },
     "metadata": {},
     "output_type": "display_data"
    }
   ],
   "source": [
    "class_1 = x2d[x2d[3] == 1]\n",
    "class_2 = x2d[x2d[3] != 1]\n",
    "\n",
    "plt.figure(figsize=(10, 6))\n",
    "\n",
    "# Scatter plot for each class\n",
    "plt.scatter(class_1[1], class_1[2], label='Class 1', alpha=0.5)\n",
    "plt.scatter(class_2[1], class_2[2], label='Class 2', alpha=0.5)\n",
    "\n",
    "# Labels and legend\n",
    "plt.xlabel('Feature 1')\n",
    "plt.ylabel('Feature 2')\n",
    "plt.legend(loc='best')\n",
    "\n",
    "plt.show()"
   ]
  },
  {
   "cell_type": "markdown",
   "metadata": {
    "id": "Od8-d73gFYmY"
   },
   "source": [
    "#Define X and y"
   ]
  },
  {
   "cell_type": "code",
   "execution_count": 17,
   "metadata": {
    "colab": {
     "base_uri": "https://localhost:8080/"
    },
    "id": "HZ4jczn9FP8H",
    "outputId": "de916922-064a-4883-d782-266384fc7eba"
   },
   "outputs": [
    {
     "name": "stdout",
     "output_type": "stream",
     "text": [
      "X shape:  (100, 2) y shape:  (100,)\n",
      "Number of total examples:  100  Number of features:  2\n"
     ]
    }
   ],
   "source": [
    "X = x2d.iloc[:, 1:-1]  # All rows, all columns except the last one as features\n",
    "y = x2d.iloc[:, -1] \n",
    "print(\"X shape: \", X.shape, \"y shape: \", y.shape)\n",
    "(m,n) = X.shape\n",
    "print(\"Number of total examples: \", m, \" Number of features: \", n)\n"
   ]
  },
  {
   "cell_type": "markdown",
   "metadata": {
    "id": "wCJu5CiYF_QO"
   },
   "source": [
    "#Split data\n",
    "- Train:test (70%:30%)\n",
    "- Initializing the random seeds to regenerate the outputs"
   ]
  },
  {
   "cell_type": "code",
   "execution_count": 29,
   "metadata": {
    "id": "oRKsQFIEFm0_"
   },
   "outputs": [
    {
     "name": "stdout",
     "output_type": "stream",
     "text": [
      "(70, 2)\n",
      "(30, 2)\n"
     ]
    }
   ],
   "source": [
    "from sklearn.model_selection import train_test_split\n",
    "X_train, X_test, y_train, y_test = train_test_split(X, y, test_size=0.3, random_state=42)\n",
    "\n",
    "print (X_train.shape)\n",
    "print (X_test.shape)"
   ]
  },
  {
   "cell_type": "markdown",
   "metadata": {
    "id": "IACn0rCQJbnu"
   },
   "source": [
    "#Normalize\n",
    "- Z normalization: feature_value-mean(feature)/standard_deviation(feature)\n",
    "- Min/max normalization: feature_value - min(feature)/max(feature)-min(feature)\n"
   ]
  },
  {
   "cell_type": "code",
   "execution_count": 30,
   "metadata": {
    "id": "tso_5M3xJMbD"
   },
   "outputs": [],
   "source": [
    "def minmax_normalization(feat_val):\n",
    "  min_val = np.min(feat_val, axis=0)\n",
    "  max_val = np.max(feat_val, axis=0)\n",
    "  return (feat_val - min_val) / (max_val - min_val)"
   ]
  },
  {
   "cell_type": "code",
   "execution_count": 31,
   "metadata": {
    "id": "D3h--UQJK9Es"
   },
   "outputs": [],
   "source": [
    "# z normalize\n",
    "X_train = minmax_normalization(X_train)\n",
    "X_test = minmax_normalization(X_test)"
   ]
  },
  {
   "cell_type": "markdown",
   "metadata": {
    "id": "_2biG3vULiQw"
   },
   "source": [
    "#Weight and bias initialization"
   ]
  },
  {
   "cell_type": "code",
   "execution_count": 32,
   "metadata": {
    "id": "2B_bg8vGLKjo"
   },
   "outputs": [
    {
     "name": "stderr",
     "output_type": "stream",
     "text": [
      "2024-02-27 20:13:42.358636: I tensorflow/compiler/mlir/mlir_graph_optimization_pass.cc:382] MLIR V1 optimization pass is not enabled\n"
     ]
    }
   ],
   "source": [
    "W = tf.Variable(tf.random.normal(shape=[n, 1]))\n",
    "b = tf.Variable(tf.random.normal(shape=[1, 1]))\n",
    "init = tf.global_variables_initializer()\n",
    "sess = tf.Session()\n",
    "sess.run(init)"
   ]
  },
  {
   "cell_type": "markdown",
   "metadata": {
    "id": "adA0kkYIOB1B"
   },
   "source": [
    "#Defining the placeholders"
   ]
  },
  {
   "cell_type": "code",
   "execution_count": 33,
   "metadata": {
    "id": "8yYkIeR3LuEi"
   },
   "outputs": [],
   "source": [
    "data = tf.placeholder(dtype=tf.float32, shape=[None, n])\n",
    "target = tf.placeholder(dtype=tf.float32, shape=[None, 1])"
   ]
  },
  {
   "cell_type": "markdown",
   "metadata": {
    "id": "mY3ceyJSRo4W"
   },
   "source": [
    "#Model definition"
   ]
  },
  {
   "cell_type": "code",
   "execution_count": 34,
   "metadata": {
    "id": "HXyV3AM9OJFQ"
   },
   "outputs": [],
   "source": [
    "mod = tf.matmul(data, W) + b"
   ]
  },
  {
   "cell_type": "markdown",
   "metadata": {
    "id": "7-3peh-tR6tT"
   },
   "source": [
    "#Define loss function"
   ]
  },
  {
   "cell_type": "code",
   "execution_count": 35,
   "metadata": {
    "id": "cEMUdntNR0fO"
   },
   "outputs": [],
   "source": [
    "#first doing a sigmoid on the model result and then using the cross-entropy loss function\n",
    "loss = tf.reduce_mean(tf.nn.sigmoid_cross_entropy_with_logits(logits=mod, labels=target))"
   ]
  },
  {
   "cell_type": "markdown",
   "metadata": {
    "id": "y0yVSC-8SghT"
   },
   "source": [
    "#Initialize hyperparameters\n",
    "- Batch size\n",
    "- Learning rate\n",
    "- Number of iterations"
   ]
  },
  {
   "cell_type": "code",
   "execution_count": 39,
   "metadata": {
    "id": "JrXjcparSVPr"
   },
   "outputs": [],
   "source": [
    "learning_rate = 0.01\n",
    "batch_size = 20\n",
    "iter_num = 500"
   ]
  },
  {
   "cell_type": "markdown",
   "metadata": {
    "id": "baFTs-tQSlX0"
   },
   "source": [
    "#Define the optimizer"
   ]
  },
  {
   "cell_type": "code",
   "execution_count": 40,
   "metadata": {
    "id": "GkxBbUK_SEMd"
   },
   "outputs": [],
   "source": [
    "opt = tf.train.GradientDescentOptimizer(learning_rate)"
   ]
  },
  {
   "cell_type": "markdown",
   "metadata": {
    "id": "KTr35U13SyHW"
   },
   "source": [
    "#Define the goal\n",
    "- minimize the defined loss"
   ]
  },
  {
   "cell_type": "code",
   "execution_count": 41,
   "metadata": {
    "id": "FbHEFwBNSw3A"
   },
   "outputs": [],
   "source": [
    "goal = opt.minimize(loss)"
   ]
  },
  {
   "cell_type": "markdown",
   "metadata": {
    "id": "3uRr4Z6_S6Qm"
   },
   "source": [
    "#Define accuracy"
   ]
  },
  {
   "cell_type": "code",
   "execution_count": 42,
   "metadata": {
    "id": "us409vhQTCfd"
   },
   "outputs": [],
   "source": [
    "# The default threshold of sigmoid is 0.5, rounded off directly\n",
    "prediction = tf.round(tf.sigmoid(mod))\n",
    "# Bool into float32 type\n",
    "correct = tf.cast(tf.equal(prediction, target), dtype=tf.float32)\n",
    "# Average\n",
    "accuracy = tf.reduce_mean(correct)\n",
    "# End of the definition of the model framework"
   ]
  },
  {
   "cell_type": "markdown",
   "metadata": {
    "id": "ZpTdZ6CvTMkB"
   },
   "source": [
    "# Initialize variables that analyze learning progress"
   ]
  },
  {
   "cell_type": "code",
   "execution_count": 43,
   "metadata": {
    "id": "e_BlmE26TLvj"
   },
   "outputs": [],
   "source": [
    "loss_trace = []\n",
    "train_acc = []\n",
    "test_acc = []"
   ]
  },
  {
   "cell_type": "markdown",
   "metadata": {
    "id": "fT8jx1TiTY83"
   },
   "source": [
    "#Training"
   ]
  },
  {
   "cell_type": "code",
   "execution_count": 46,
   "metadata": {
    "colab": {
     "base_uri": "https://localhost:8080/"
    },
    "id": "qYNCBIVtS5XS",
    "outputId": "8ef91030-3174-48ef-e685-11cac5b5a340"
   },
   "outputs": [
    {
     "name": "stdout",
     "output_type": "stream",
     "text": [
      "epoch:   10 loss: 0.558775 train_acc: 0.542857 test_acc: 0.466667\n",
      "epoch:   20 loss: 0.521881 train_acc: 0.542857 test_acc: 0.466667\n",
      "epoch:   30 loss: 0.620471 train_acc: 0.557143 test_acc: 0.466667\n",
      "epoch:   40 loss: 0.530729 train_acc: 0.571429 test_acc: 0.466667\n",
      "epoch:   50 loss: 0.612786 train_acc: 0.571429 test_acc: 0.500000\n",
      "epoch:   60 loss: 0.589129 train_acc: 0.585714 test_acc: 0.500000\n",
      "epoch:   70 loss: 0.606400 train_acc: 0.585714 test_acc: 0.500000\n",
      "epoch:   80 loss: 0.557958 train_acc: 0.600000 test_acc: 0.500000\n",
      "epoch:   90 loss: 0.514694 train_acc: 0.600000 test_acc: 0.500000\n",
      "epoch:  100 loss: 0.566693 train_acc: 0.614286 test_acc: 0.500000\n",
      "epoch:  110 loss: 0.544713 train_acc: 0.614286 test_acc: 0.500000\n",
      "epoch:  120 loss: 0.554295 train_acc: 0.642857 test_acc: 0.500000\n",
      "epoch:  130 loss: 0.550794 train_acc: 0.671429 test_acc: 0.500000\n",
      "epoch:  140 loss: 0.470743 train_acc: 0.671429 test_acc: 0.500000\n",
      "epoch:  150 loss: 0.553409 train_acc: 0.671429 test_acc: 0.500000\n",
      "epoch:  160 loss: 0.583973 train_acc: 0.671429 test_acc: 0.500000\n",
      "epoch:  170 loss: 0.581132 train_acc: 0.671429 test_acc: 0.500000\n",
      "epoch:  180 loss: 0.596046 train_acc: 0.714286 test_acc: 0.500000\n",
      "epoch:  190 loss: 0.494553 train_acc: 0.728571 test_acc: 0.500000\n",
      "epoch:  200 loss: 0.545363 train_acc: 0.742857 test_acc: 0.500000\n",
      "epoch:  210 loss: 0.554313 train_acc: 0.757143 test_acc: 0.500000\n",
      "epoch:  220 loss: 0.586949 train_acc: 0.771429 test_acc: 0.533333\n",
      "epoch:  230 loss: 0.573232 train_acc: 0.771429 test_acc: 0.566667\n",
      "epoch:  240 loss: 0.547562 train_acc: 0.800000 test_acc: 0.566667\n",
      "epoch:  250 loss: 0.520086 train_acc: 0.828571 test_acc: 0.600000\n",
      "epoch:  260 loss: 0.528382 train_acc: 0.828571 test_acc: 0.700000\n",
      "epoch:  270 loss: 0.470629 train_acc: 0.857143 test_acc: 0.700000\n",
      "epoch:  280 loss: 0.545294 train_acc: 0.857143 test_acc: 0.700000\n",
      "epoch:  290 loss: 0.489635 train_acc: 0.857143 test_acc: 0.700000\n",
      "epoch:  300 loss: 0.621297 train_acc: 0.857143 test_acc: 0.733333\n",
      "epoch:  310 loss: 0.502240 train_acc: 0.857143 test_acc: 0.733333\n",
      "epoch:  320 loss: 0.530282 train_acc: 0.928571 test_acc: 0.766667\n",
      "epoch:  330 loss: 0.485401 train_acc: 0.928571 test_acc: 0.766667\n",
      "epoch:  340 loss: 0.563640 train_acc: 0.928571 test_acc: 0.800000\n",
      "epoch:  350 loss: 0.484854 train_acc: 0.928571 test_acc: 0.800000\n",
      "epoch:  360 loss: 0.519562 train_acc: 0.957143 test_acc: 0.800000\n",
      "epoch:  370 loss: 0.551688 train_acc: 0.957143 test_acc: 0.800000\n",
      "epoch:  380 loss: 0.509033 train_acc: 0.957143 test_acc: 0.800000\n",
      "epoch:  390 loss: 0.540501 train_acc: 0.957143 test_acc: 0.800000\n",
      "epoch:  400 loss: 0.499541 train_acc: 0.957143 test_acc: 0.833333\n",
      "epoch:  410 loss: 0.503249 train_acc: 0.957143 test_acc: 0.833333\n",
      "epoch:  420 loss: 0.549615 train_acc: 0.957143 test_acc: 0.833333\n",
      "epoch:  430 loss: 0.477781 train_acc: 0.957143 test_acc: 0.866667\n",
      "epoch:  440 loss: 0.525074 train_acc: 0.957143 test_acc: 0.866667\n",
      "epoch:  450 loss: 0.527373 train_acc: 0.957143 test_acc: 0.866667\n",
      "epoch:  460 loss: 0.516384 train_acc: 0.957143 test_acc: 0.866667\n",
      "epoch:  470 loss: 0.523684 train_acc: 0.957143 test_acc: 0.866667\n",
      "epoch:  480 loss: 0.497805 train_acc: 0.957143 test_acc: 0.866667\n",
      "epoch:  490 loss: 0.471622 train_acc: 0.957143 test_acc: 0.866667\n",
      "epoch:  500 loss: 0.492937 train_acc: 0.957143 test_acc: 0.866667\n"
     ]
    }
   ],
   "source": [
    "for epoch in range(iter_num):\n",
    "  # Generate random batch index\n",
    "  batch_index = np.random.choice(len(X_train), size=batch_size)\n",
    "  batch_X_train = X_train.iloc[batch_index]\n",
    "  batch_y_train = np.matrix(y_train.iloc[batch_index]).T\n",
    "  sess.run(goal, feed_dict={data: batch_X_train, target: batch_y_train})\n",
    "  temp_loss = sess.run(loss, feed_dict={data: batch_X_train, target: batch_y_train})\n",
    "  temp_train_acc = sess.run(accuracy, feed_dict={data: X_train, target: np.matrix(y_train).T})\n",
    "  temp_test_acc = sess.run(accuracy, feed_dict={data: X_test, target: np.matrix(y_test).T})\n",
    "  loss_trace.append(temp_loss)\n",
    "  train_acc.append(temp_train_acc)\n",
    "  test_acc.append(temp_test_acc)\n",
    "  if (epoch + 1) % 10 == 0:\n",
    "    print('epoch: {:4d} loss: {:5f} train_acc: {:5f} test_acc: {:5f}'.format(epoch + 1, temp_loss, temp_train_acc, temp_test_acc))\n"
   ]
  },
  {
   "cell_type": "markdown",
   "metadata": {
    "id": "pNB7uAHAXLLs"
   },
   "source": [
    "#Visualization of the loss function"
   ]
  },
  {
   "cell_type": "code",
   "execution_count": 47,
   "metadata": {
    "colab": {
     "base_uri": "https://localhost:8080/",
     "height": 472
    },
    "id": "sb5Sq_anUnzh",
    "outputId": "6fb53068-22dc-4e85-8ea8-d8b893a1f1a9"
   },
   "outputs": [
    {
     "data": {
      "image/png": "[encoded data removed]",
      "text/plain": [
       "<Figure size 640x480 with 1 Axes>"
      ]
     },
     "metadata": {},
     "output_type": "display_data"
    }
   ],
   "source": [
    "\n",
    "plt.plot(loss_trace)\n",
    "plt.title('Cross Entropy Loss')\n",
    "plt.xlabel('epoch')\n",
    "plt.ylabel('loss')\n",
    "plt.show()"
   ]
  },
  {
   "cell_type": "markdown",
   "metadata": {
    "id": "FcOjBmpKndBT"
   },
   "source": [
    "#Train and test accuracy visualization"
   ]
  },
  {
   "cell_type": "code",
   "execution_count": 48,
   "metadata": {
    "colab": {
     "base_uri": "https://localhost:8080/",
     "height": 472
    },
    "id": "oqud1_gRWrGf",
    "outputId": "fca7ca7e-914e-446e-8754-aed55c7f39a9"
   },
   "outputs": [
    {
     "data": {
      "image/png": "[encoded data removed]",
      "text/plain": [
       "<Figure size 640x480 with 1 Axes>"
      ]
     },
     "metadata": {},
     "output_type": "display_data"
    }
   ],
   "source": [
    "\n",
    "plt.plot(train_acc, 'b-', label='train accuracy')\n",
    "plt.plot(test_acc, 'k-', label='test accuracy')\n",
    "plt.xlabel('epoch')\n",
    "plt.ylabel('accuracy')\n",
    "plt.title('Train and Test Accuracy')\n",
    "plt.legend(loc='best')\n",
    "plt.show()"
   ]
  },
  {
   "cell_type": "code",
   "execution_count": null,
   "metadata": {
    "id": "X3Oj1d7kv0Sm"
   },
   "outputs": [],
   "source": []
  }
 ],
 "metadata": {
  "colab": {
   "provenance": []
  },
  "kernelspec": {
   "display_name": "Python 3 (ipykernel)",
   "language": "python",
   "name": "python3"
  },
  "language_info": {
   "codemirror_mode": {
    "name": "ipython",
    "version": 3
   },
   "file_extension": ".py",
   "mimetype": "text/x-python",
   "name": "python",
   "nbconvert_exporter": "python",
   "pygments_lexer": "ipython3",
   "version": "3.11.3"
  }
 },
 "nbformat": 4,
 "nbformat_minor": 1
}
