{
 "cells": [
  {
   "cell_type": "code",
   "execution_count": 1,
   "metadata": {
    "colab": {
     "base_uri": "https://localhost:8080/"
    },
    "id": "fEoF9aFG2EAe",
    "outputId": "86640302-c00f-4f9f-8014-c7780caec86c"
   },
   "outputs": [
    {
     "name": "stdout",
     "output_type": "stream",
     "text": [
      "WARNING:tensorflow:From /Users/samskanderi/anaconda3/lib/python3.11/site-packages/tensorflow/python/compat/v2_compat.py:108: disable_resource_variables (from tensorflow.python.ops.variable_scope) is deprecated and will be removed in a future version.\n",
      "Instructions for updating:\n",
      "non-resource variables are not supported in the long term\n",
      "2.14.0\n",
      "None\n"
     ]
    }
   ],
   "source": [
    "import tensorflow.compat.v1 as tf\n",
    "tf.disable_v2_behavior()\n",
    "print(print(tf.__version__))"
   ]
  },
  {
   "cell_type": "markdown",
   "metadata": {
    "id": "Tebfm9bH2QvX"
   },
   "source": [
    "#MNIST: loading, splitting, and reshaping"
   ]
  },
  {
   "cell_type": "code",
   "execution_count": 2,
   "metadata": {
    "colab": {
     "base_uri": "https://localhost:8080/"
    },
    "id": "jWMq-Le02IgY",
    "outputId": "07408a03-6793-4c35-9531-c98201954108"
   },
   "outputs": [
    {
     "name": "stdout",
     "output_type": "stream",
     "text": [
      "Downloading data from https://storage.googleapis.com/tensorflow/tf-keras-datasets/mnist.npz\n",
      "11490434/11490434 [==============================] - 1s 0us/step\n"
     ]
    }
   ],
   "source": [
    "mnist = tf.keras.datasets.mnist\n",
    "(training_images, training_labels), (test_images, test_labels) = mnist.load_data()\n",
    "training_images=training_images.reshape(60000, 28, 28, 1)\n",
    "training_images=training_images / 255.0\n",
    "test_images = test_images.reshape(10000, 28, 28, 1)\n",
    "test_images=test_images/255.0"
   ]
  },
  {
   "cell_type": "code",
   "execution_count": 4,
   "metadata": {},
   "outputs": [],
   "source": [
    "import numpy as np\n",
    "\n",
    "# Assuming `y_train` and `y_test` are your training and testing labels respectively\n",
    "# Convert labels: 5 becomes 1, and all other digits become 0\n",
    "\n",
    "y_train_binary = np.where(training_labels == 5, 1, 0)\n",
    "y_test_binary = np.where(test_labels == 5, 1, 0)\n",
    "\n",
    "# Now `y_train_binary` and `y_test_binary` contain labels where 5 is class 0, and all other digits are class 1\n"
   ]
  },
  {
   "cell_type": "markdown",
   "metadata": {
    "id": "5uiCRekF2fLu"
   },
   "source": [
    "#Convnet architecture definition\n",
    "\n",
    "*   One convolution layer (32 filters of shape (3,3) with ReLU)\n",
    "*   One max-pooling layer (filter shape: (2,2))\n",
    "*   One fully connected layer (128 units; ReLU activation)\n",
    "*   10 output units (softmax layer)\n",
    "\n"
   ]
  },
  {
   "cell_type": "code",
   "execution_count": 27,
   "metadata": {
    "id": "45VaNEYk2YJ1"
   },
   "outputs": [],
   "source": [
    "model = tf.keras.models.Sequential([\n",
    "  tf.keras.layers.Conv2D(32, (3,3), activation='relu', input_shape=(28, 28, 1)),\n",
    "  tf.keras.layers.MaxPooling2D(2, 2),\n",
    "  tf.keras.layers.Flatten(),\n",
    "  tf.keras.layers.Dense(128, activation='relu'),\n",
    "  tf.keras.layers.Dense(1, activation='sigmoid')\n",
    "])"
   ]
  },
  {
   "cell_type": "markdown",
   "metadata": {
    "id": "o2CGInlf3PVE"
   },
   "source": [
    "#Model training"
   ]
  },
  {
   "cell_type": "code",
   "execution_count": 28,
   "metadata": {
    "colab": {
     "base_uri": "https://localhost:8080/"
    },
    "id": "QXXCdw783VNX",
    "outputId": "7d1291af-87c7-48a9-a5f4-ce570e1534b2"
   },
   "outputs": [
    {
     "name": "stdout",
     "output_type": "stream",
     "text": [
      "Train on 60000 samples\n",
      "Epoch 1/10\n",
      "  832/60000 [..............................] - ETA: 9s - loss: 0.3173 - acc: 0.8858 "
     ]
    },
    {
     "name": "stderr",
     "output_type": "stream",
     "text": [
      "2024-02-27 20:52:34.196536: W tensorflow/c/c_api.cc:305] Operation '{name:'training_8/Adam/beta_1/Assign' id:1625 op device:{requested: '', assigned: ''} def:{{{node training_8/Adam/beta_1/Assign}} = AssignVariableOp[_has_manual_control_dependencies=true, dtype=DT_FLOAT, validate_shape=false](training_8/Adam/beta_1, training_8/Adam/beta_1/Initializer/initial_value)}}' was changed by setting attribute after it was run by a session. This mutation will have no effect, and will trigger an error in the future. Either don't modify nodes after running them or create a new session.\n"
     ]
    },
    {
     "name": "stdout",
     "output_type": "stream",
     "text": [
      "60000/60000 [==============================] - 8s 128us/sample - loss: 0.0659 - acc: 0.9862\n",
      "Epoch 2/10\n",
      "60000/60000 [==============================] - 8s 128us/sample - loss: 0.0234 - acc: 0.9963\n",
      "Epoch 3/10\n",
      "60000/60000 [==============================] - 8s 128us/sample - loss: 0.0077 - acc: 0.9976\n",
      "Epoch 4/10\n",
      "60000/60000 [==============================] - 8s 131us/sample - loss: 0.0048 - acc: 0.9984\n",
      "Epoch 5/10\n",
      "60000/60000 [==============================] - 8s 131us/sample - loss: 0.0025 - acc: 0.9992\n",
      "Epoch 6/10\n",
      "60000/60000 [==============================] - 8s 135us/sample - loss: 0.0019 - acc: 0.9994\n",
      "Epoch 7/10\n",
      "60000/60000 [==============================] - 8s 135us/sample - loss: 0.0014 - acc: 0.9996\n",
      "Epoch 8/10\n",
      "60000/60000 [==============================] - 8s 128us/sample - loss: 0.0011 - acc: 0.9996\n",
      "Epoch 9/10\n",
      "60000/60000 [==============================] - 8s 132us/sample - loss: 3.5914e-04 - acc: 0.9999\n",
      "Epoch 10/10\n",
      "60000/60000 [==============================] - 8s 132us/sample - loss: 6.2206e-04 - acc: 0.9998\n"
     ]
    },
    {
     "data": {
      "text/plain": [
       "<keras.src.callbacks.History at 0x16e9bedd0>"
      ]
     },
     "execution_count": 28,
     "metadata": {},
     "output_type": "execute_result"
    }
   ],
   "source": [
    "model.compile(optimizer='adam', loss='binary_crossentropy', metrics=['accuracy'])\n",
    "model.fit(training_images, y_train_binary, epochs=10)"
   ]
  },
  {
   "cell_type": "markdown",
   "metadata": {
    "id": "51YjudQv3bz_"
   },
   "source": [
    "#Evaluation with test data"
   ]
  },
  {
   "cell_type": "code",
   "execution_count": 29,
   "metadata": {
    "colab": {
     "base_uri": "https://localhost:8080/"
    },
    "id": "Mjp2-0eU3fjM",
    "outputId": "fa41aaf8-84c4-4637-c4c7-d89762802236"
   },
   "outputs": [
    {
     "name": "stderr",
     "output_type": "stream",
     "text": [
      "2024-02-27 20:53:52.761203: W tensorflow/c/c_api.cc:305] Operation '{name:'loss_4/mul' id:1503 op device:{requested: '', assigned: ''} def:{{{node loss_4/mul}} = Mul[T=DT_FLOAT, _has_manual_control_dependencies=true](loss_4/mul/x, loss_4/dense_11_loss/value)}}' was changed by setting attribute after it was run by a session. This mutation will have no effect, and will trigger an error in the future. Either don't modify nodes after running them or create a new session.\n"
     ]
    },
    {
     "name": "stdout",
     "output_type": "stream",
     "text": [
      "0.9971\n"
     ]
    }
   ],
   "source": [
    "test_loss, test_acc = model.evaluate(test_images, y_test_binary)\n",
    "print(test_acc)"
   ]
  },
  {
   "cell_type": "markdown",
   "metadata": {
    "id": "LRIN6KXVyeZc"
   },
   "source": [
    "## Q2"
   ]
  },
  {
   "cell_type": "code",
   "execution_count": 30,
   "metadata": {},
   "outputs": [
    {
     "name": "stderr",
     "output_type": "stream",
     "text": [
      "2024-02-27 20:53:53.100133: W tensorflow/c/c_api.cc:305] Operation '{name:'dense_11/Sigmoid' id:1446 op device:{requested: '', assigned: ''} def:{{{node dense_11/Sigmoid}} = Sigmoid[T=DT_FLOAT, _has_manual_control_dependencies=true](dense_11/BiasAdd)}}' was changed by setting attribute after it was run by a session. This mutation will have no effect, and will trigger an error in the future. Either don't modify nodes after running them or create a new session.\n"
     ]
    }
   ],
   "source": [
    "predictions = model.predict(test_images)\n",
    "predicted_classes = (predictions > 0.5).astype(int)\n"
   ]
  },
  {
   "cell_type": "code",
   "execution_count": 31,
   "metadata": {},
   "outputs": [
    {
     "data": {
      "image/png": "[encoded data removed]",
      "text/plain": [
       "<Figure size 1200x600 with 10 Axes>"
      ]
     },
     "metadata": {},
     "output_type": "display_data"
    }
   ],
   "source": [
    "import matplotlib.pyplot as plt\n",
    "\n",
    "indices = np.random.choice(range(len(test_images)), 10, replace=False)\n",
    "\n",
    "# Plotting\n",
    "fig, axes = plt.subplots(2, 5, figsize=(12, 6))\n",
    "axes = axes.flatten()\n",
    "\n",
    "for i, idx in enumerate(indices):\n",
    "    axes[i].imshow(test_images[idx], cmap='gray')\n",
    "    axes[i].set_title(f\"Predicted: {predicted_classes[idx]}\\nActual: {y_test_binary[idx]}\")\n",
    "    axes[i].axis('off')\n",
    "\n",
    "plt.tight_layout()\n",
    "plt.show()"
   ]
  },
  {
   "cell_type": "markdown",
   "metadata": {},
   "source": [
    "## Q3"
   ]
  },
  {
   "cell_type": "code",
   "execution_count": 47,
   "metadata": {},
   "outputs": [
    {
     "name": "stdout",
     "output_type": "stream",
     "text": [
      "Train on 48000 samples, validate on 12000 samples\n",
      "Epoch 1/6\n",
      "  256/48000 [..............................] - ETA: 22s - loss: 0.8610 - acc: 0.8398 "
     ]
    },
    {
     "name": "stderr",
     "output_type": "stream",
     "text": [
      "2024-02-27 21:18:38.485507: W tensorflow/c/c_api.cc:305] Operation '{name:'training_20/Adam/beta_2/Assign' id:6496 op device:{requested: '', assigned: ''} def:{{{node training_20/Adam/beta_2/Assign}} = AssignVariableOp[_has_manual_control_dependencies=true, dtype=DT_FLOAT, validate_shape=false](training_20/Adam/beta_2, training_20/Adam/beta_2/Initializer/initial_value)}}' was changed by setting attribute after it was run by a session. This mutation will have no effect, and will trigger an error in the future. Either don't modify nodes after running them or create a new session.\n"
     ]
    },
    {
     "name": "stdout",
     "output_type": "stream",
     "text": [
      "48000/48000 [==============================] - ETA: 0s - loss: 0.0359 - acc: 0.9896"
     ]
    },
    {
     "name": "stderr",
     "output_type": "stream",
     "text": [
      "2024-02-27 21:18:49.713378: W tensorflow/c/c_api.cc:305] Operation '{name:'loss_10/mul' id:6224 op device:{requested: '', assigned: ''} def:{{{node loss_10/mul}} = Mul[T=DT_FLOAT, _has_manual_control_dependencies=true](loss_10/mul/x, loss_10/dense_24_loss/value)}}' was changed by setting attribute after it was run by a session. This mutation will have no effect, and will trigger an error in the future. Either don't modify nodes after running them or create a new session.\n"
     ]
    },
    {
     "name": "stdout",
     "output_type": "stream",
     "text": [
      "48000/48000 [==============================] - 12s 248us/sample - loss: 0.0359 - acc: 0.9896 - val_loss: 0.0144 - val_acc: 0.9955\n",
      "Epoch 2/6\n",
      "48000/48000 [==============================] - 12s 242us/sample - loss: 0.0155 - acc: 0.9953 - val_loss: 0.0128 - val_acc: 0.9965\n",
      "Epoch 3/6\n",
      "48000/48000 [==============================] - 12s 243us/sample - loss: 0.0127 - acc: 0.9959 - val_loss: 0.0121 - val_acc: 0.9968\n",
      "Epoch 4/6\n",
      "48000/48000 [==============================] - 12s 244us/sample - loss: 0.0095 - acc: 0.9973 - val_loss: 0.0386 - val_acc: 0.9940\n",
      "Epoch 5/6\n",
      "48000/48000 [==============================] - 12s 241us/sample - loss: 0.0088 - acc: 0.9974 - val_loss: 0.0181 - val_acc: 0.9973\n",
      "Epoch 6/6\n",
      "48000/48000 [==============================] - 12s 243us/sample - loss: 0.0066 - acc: 0.9978 - val_loss: 0.0215 - val_acc: 0.9971\n"
     ]
    },
    {
     "data": {
      "text/plain": [
       "<keras.src.callbacks.History at 0x2d49d4e90>"
      ]
     },
     "execution_count": 47,
     "metadata": {},
     "output_type": "execute_result"
    }
   ],
   "source": [
    "from tensorflow.keras.layers import Conv2D, MaxPooling2D, Flatten, Dense, Dropout, BatchNormalization\n",
    "\n",
    "model = tf.keras.models.Sequential([\n",
    "  Conv2D(32, (3,3), activation='relu', input_shape=(28, 28, 1)),\n",
    "  BatchNormalization(), # Normalize the activations of the previous layer at each batch\n",
    "  MaxPooling2D(2, 2),\n",
    "  Conv2D(64, (3,3), activation='relu'), # Adding an additional Conv2D layer to capture more complex features\n",
    "  BatchNormalization(), # Normalize the activations of the previous layer at each batch\n",
    "  MaxPooling2D(2,2),\n",
    "  Flatten(),\n",
    "  Dense(128, activation='relu'),\n",
    "  Dropout(0.5), # Dropout for regularization to reduce overfitting\n",
    "  Dense(1, activation='sigmoid')\n",
    "])\n",
    "\n",
    "# Compile the model\n",
    "model.compile(optimizer='adam', loss='binary_crossentropy', metrics=['accuracy'])\n",
    "\n",
    "# Fit the model\n",
    "model.fit(training_images, y_train_binary, epochs=6, validation_split=0.2) # Added validation split for monitoring overfitting"
   ]
  },
  {
   "cell_type": "code",
   "execution_count": 49,
   "metadata": {},
   "outputs": [
    {
     "name": "stdout",
     "output_type": "stream",
     "text": [
      "0.998\n"
     ]
    }
   ],
   "source": [
    "test_loss, test_acc = model.evaluate(test_images, y_test_binary)\n",
    "print(test_acc)"
   ]
  },
  {
   "cell_type": "markdown",
   "metadata": {},
   "source": [
    "The addition of another Conv2D layer with 64 filters allows the model to learn more complex patterns in the data.\n",
    "\n",
    "The batch normalization technique normalizes the input to each layer for each mini-batch, which stabilizes the learning process and improves the training speed, performance, and stability of deep neural networks.\n",
    "\n",
    "Implementing Dropout during training helps prevent overfitting by setting random input units to 0 at each update, which makes the model more robust and less likely to rely on a single feature.\n",
    "\n",
    "By using a validation split, we can monitor the model's performance on unseen data during training, thereby providing an early indication of overfitting.\n",
    "\n",
    "By reducing the number of ephochs to 6, we can prevent overfitting since we already used a more complex architecture.\n",
    "\n",
    "We had an improvement from 0.9971 to 0.9980"
   ]
  },
  {
   "cell_type": "markdown",
   "metadata": {},
   "source": [
    "## Q4"
   ]
  },
  {
   "cell_type": "code",
   "execution_count": 43,
   "metadata": {},
   "outputs": [
    {
     "name": "stderr",
     "output_type": "stream",
     "text": [
      "/Users/samskanderi/anaconda3/lib/python3.11/site-packages/keras/src/engine/training_v1.py:2359: UserWarning: `Model.state_updates` will be removed in a future version. This property should not be used in TensorFlow 2.0, as `updates` are applied automatically.\n",
      "  updates=self.state_updates,\n",
      "2024-02-27 21:14:46.088704: W tensorflow/c/c_api.cc:305] Operation '{name:'dense_20/Sigmoid' id:4532 op device:{requested: '', assigned: ''} def:{{{node dense_20/Sigmoid}} = Sigmoid[T=DT_FLOAT, _has_manual_control_dependencies=true](dense_20/BiasAdd)}}' was changed by setting attribute after it was run by a session. This mutation will have no effect, and will trigger an error in the future. Either don't modify nodes after running them or create a new session.\n"
     ]
    },
    {
     "name": "stdout",
     "output_type": "stream",
     "text": [
      "Accuracy: 0.9977\n",
      "Precision: 0.9943117178612059\n",
      "Recall: 0.9798206278026906\n",
      "F1 Score: 0.987012987012987\n"
     ]
    }
   ],
   "source": [
    "from sklearn.metrics import accuracy_score, precision_score, recall_score, f1_score\n",
    "\n",
    "\n",
    "predictions = model.predict(test_images)\n",
    "predictions = (predictions > 0.5).astype(int) \n",
    "\n",
    "accuracy = accuracy_score(y_test_binary, predictions)\n",
    "precision = precision_score(y_test_binary, predictions)\n",
    "recall = recall_score(y_test_binary, predictions)\n",
    "f1 = f1_score(y_test_binary, predictions)\n",
    "\n",
    "print(f\"Accuracy: {accuracy}\")\n",
    "print(f\"Precision: {precision}\")\n",
    "print(f\"Recall: {recall}\")\n",
    "print(f\"F1 Score: {f1}\")\n"
   ]
  },
  {
   "cell_type": "code",
   "execution_count": null,
   "metadata": {},
   "outputs": [],
   "source": []
  }
 ],
 "metadata": {
  "colab": {
   "provenance": []
  },
  "kernelspec": {
   "display_name": "Python 3 (ipykernel)",
   "language": "python",
   "name": "python3"
  },
  "language_info": {
   "codemirror_mode": {
    "name": "ipython",
    "version": 3
   },
   "file_extension": ".py",
   "mimetype": "text/x-python",
   "name": "python",
   "nbconvert_exporter": "python",
   "pygments_lexer": "ipython3",
   "version": "3.11.3"
  }
 },
 "nbformat": 4,
 "nbformat_minor": 1
}
